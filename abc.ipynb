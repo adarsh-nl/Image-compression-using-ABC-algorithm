{
 "cells": [
  {
   "cell_type": "code",
   "execution_count": 1,
   "metadata": {},
   "outputs": [
    {
     "name": "stdout",
     "output_type": "stream",
     "text": [
      "PNG\n",
      "(400, 200)\n",
      "RGB\n"
     ]
    }
   ],
   "source": [
    "from PIL import Image\n",
    "import numpy as np\n",
    "import random\n",
    "from matplotlib import pyplot as plt\n",
    "\n",
    "image = Image.open('image.png')\n",
    "print(image.format)\n",
    "print(image.size)\n",
    "print(image.mode)\n",
    "image = image.convert('L')\n",
    "image = image.resize((100,100))\n",
    "image.show()\n",
    "#print(image.format)\n",
    "#print(image.size)\n",
    "#print(image.mode)"
   ]
  },
  {
   "cell_type": "code",
   "execution_count": 2,
   "metadata": {},
   "outputs": [
    {
     "name": "stderr",
     "output_type": "stream",
     "text": [
      "\n",
      "(eog:335382): Gtk-WARNING **: 14:48:36.390: Could not load a pixbuf from icon theme.\n",
      "This may indicate that pixbuf loaders or the mime database could not be found.\n"
     ]
    }
   ],
   "source": [
    "DEBUG = False\n",
    "\n",
    "def debug(str):\n",
    "    if DEBUG:\n",
    "        print(str)"
   ]
  },
  {
   "cell_type": "code",
   "execution_count": 3,
   "metadata": {},
   "outputs": [],
   "source": [
    "def get_source():\n",
    "    image = Image.open('image.png')\n",
    "    image = image.convert('L')\n",
    "    image = image.resize((100,100))\n",
    "    source = np.array(image)\n",
    "    return source"
   ]
  },
  {
   "cell_type": "code",
   "execution_count": 4,
   "metadata": {},
   "outputs": [
    {
     "name": "stderr",
     "output_type": "stream",
     "text": [
      "/tmp/ipykernel_335352/2538151203.py:41: RuntimeWarning: overflow encountered in ubyte_scalars\n",
      "  source_new = (source[bee][random_varaible]) + (fi * (source[bee][random_varaible]-source[random_partner][random_varaible]))\n",
      "/tmp/ipykernel_335352/2538151203.py:65: RuntimeWarning: overflow encountered in ubyte_scalars\n",
      "  source_new = (source[onlooker_bee][random_varaible]) + (fi * (source[onlooker_bee][random_varaible]-source[random_partner][random_varaible]))\n"
     ]
    }
   ],
   "source": [
    "#objective function = sum of all values in the row\n",
    "\n",
    "def objective_function(array):\n",
    "    objective_function_array = np.sum(array,axis=1)                     #axis = 1 so that it calculates the sum of the array row wise.\n",
    "                                                                        #eg: a = np.sum([[0.5, 0.7, 0.2, 1.5],[0.5, 0.7, 0.2, 1.5]],axis=1)\n",
    "    return objective_function_array\n",
    "\n",
    "def __generate_pi():\n",
    "    return random.uniform(0, 1)\n",
    "\n",
    "def __individual_objective_function_and_fitness(array):\n",
    "    objective_score = np.sum(array)\n",
    "    if objective_score >=0:\n",
    "        fitness_score = 1/(1 + objective_score)\n",
    "    else:\n",
    "        fitness_score = 1 + objective_score\n",
    "    return objective_score, fitness_score\n",
    "\n",
    "def create_trail_array(length):\n",
    "    return np.zeros(length)\n",
    "\n",
    "def fitness_function(array):\n",
    "    fitness_function_array = []\n",
    "    for value in array:\n",
    "        if value >= 0:\n",
    "            fitness_function_array.append(1/(1 + value))\n",
    "        else:\n",
    "            fitness_function_array.append(1+value)\n",
    "    return fitness_function_array\n",
    "\n",
    "def __choose_random_number():\n",
    "    return np.random.randint(1,100)\n",
    "\n",
    "def __employed_bee_phase(source, objective_function_array, fitness_function_array, trail):\n",
    "    for bee in range (len(objective_function_array)):\n",
    "        random_varaible = __choose_random_number()\n",
    "        random_partner = __choose_random_number()\n",
    "        fi = __generate_pi()\n",
    "        bee_current_array = []\n",
    "        bee_current_array = source[bee]\n",
    "        source_new = (source[bee][random_varaible]) + (fi * (source[bee][random_varaible]-source[random_partner][random_varaible]))\n",
    "        debug(\"Employed bee phase: Bee No. {} and the modified value {}\".format(bee, source_new))\n",
    "        debug(source_new)\n",
    "        bee_current_array[random_varaible] = source_new\n",
    "        objective_instance, fitness = __individual_objective_function_and_fitness(bee_current_array)\n",
    "        if (fitness < fitness_function_array[bee]):\n",
    "            source[bee][random_varaible] = source_new\n",
    "            objective_function_array[bee] = objective_instance\n",
    "            fitness_function_array[bee] = fitness\n",
    "            trail[bee] = 0\n",
    "        else:\n",
    "            trail[bee] += 1\n",
    "\n",
    "    return source, objective_function_array, fitness_function_array, trail\n",
    "\n",
    "def __Onlooker_bee_phase(source, objective_function_array, fitness_function_array, trail, fitness_probability):\n",
    "    for onlooker_bee in range(len(objective_function_array)):\n",
    "        random_number = __generate_pi()\n",
    "        if (random_number<fitness_probability[onlooker_bee]):\n",
    "            random_varaible = __choose_random_number()\n",
    "            random_partner = __choose_random_number()\n",
    "            fi = __generate_pi()\n",
    "            bee_current_array = []\n",
    "            bee_current_array = source[onlooker_bee]\n",
    "            source_new = (source[onlooker_bee][random_varaible]) + (fi * (source[onlooker_bee][random_varaible]-source[random_partner][random_varaible]))\n",
    "            debug(\"Onlooker bee phase: Bee No. {} and the modified value {}\".format(onlooker_bee, source_new))\n",
    "            debug(source_new)\n",
    "            bee_current_array[random_varaible] = source_new\n",
    "            objective_instance, fitness = __individual_objective_function_and_fitness(bee_current_array)\n",
    "            if (fitness < fitness_function_array[onlooker_bee]):\n",
    "                source[onlooker_bee][random_varaible] = source_new\n",
    "                objective_function_array[onlooker_bee] = objective_instance\n",
    "                fitness_function_array[onlooker_bee] = fitness\n",
    "                trail[onlooker_bee] = 0\n",
    "            else:\n",
    "                trail[onlooker_bee] += 1\n",
    "        \n",
    "        else:\n",
    "            continue\n",
    "    return source, objective_function_array, fitness_function_array, trail\n",
    "\n",
    "def __generate_new_source__():\n",
    "    return np.random.randint(0,100, size=(100))\n",
    "\n",
    "def __onlooker_bee_phase_fitness_probability__(fitness_array):\n",
    "    probability_array = []\n",
    "    for individual_fitness in range (len(fitness_array)):\n",
    "        probability_array.append(individual_fitness/len(fitness_array))\n",
    "    return probability_array\n",
    "\n",
    "def __scout_bee_phase(source, objective_function_array, fitness_function_array, trail, __scout_bee_limit__):\n",
    "    for scout_bee in range(len(trail)):\n",
    "        if (trail[scout_bee]>__scout_bee_limit__):\n",
    "            source[scout_bee] = __generate_new_source__()\n",
    "            objective_function_array[scout_bee], fitness_function_array[scout_bee] = __individual_objective_function_and_fitness(source[scout_bee])\n",
    "            trail[scout_bee] = 0\n",
    "        else:\n",
    "            continue\n",
    "\n",
    "    return source, objective_function_array, fitness_function_array, trail\n",
    "\n",
    "def main():\n",
    "    __scout_bee_limit__ = 1\n",
    "    source  = get_source()\n",
    "    #source = source.setflags(write=1)\n",
    "    debug(\"The source array is:\")\n",
    "    debug(source)\n",
    "\n",
    "    #Employed bee phase\n",
    "    objective_function_array = objective_function(source)\n",
    "    debug(\"The objective function array is:\")\n",
    "    debug(objective_function_array)\n",
    "\n",
    "    fitness_function_array = fitness_function(objective_function_array)\n",
    "    debug(\"The initial fitness function is\")\n",
    "    debug(fitness_function_array)\n",
    "\n",
    "    trail = create_trail_array(len(objective_function_array))\n",
    "    debug(\"The initial trail array: \")\n",
    "    debug(trail)\n",
    "\n",
    "    source, objective_function_array, fitness_function_array, trail = __employed_bee_phase(source, objective_function_array, fitness_function_array, trail)\n",
    "    debug(\"The objective function array after employed bee phase is:\")\n",
    "    debug(objective_function_array)\n",
    "\n",
    "    debug(\"The fitness function after employeed bee phase is\")\n",
    "    debug(fitness_function_array)\n",
    "\n",
    "    debug(\"The trail array after employeed bee phase: \")\n",
    "    debug(trail)\n",
    "\n",
    "    #Onlooker bee phase\n",
    "    fitness_probability = __onlooker_bee_phase_fitness_probability__(fitness_function_array)\n",
    "    source, objective_function_array, fitness_function_array, trail = __Onlooker_bee_phase(source, objective_function_array, fitness_function_array, trail, fitness_probability)\n",
    "    debug(\"The objective function array after Onlooker bee phase is:\")\n",
    "    debug(objective_function_array)\n",
    "\n",
    "    debug(\"The fitness function after onlooker bee phase is\")\n",
    "    debug(fitness_function_array)\n",
    "\n",
    "    debug(\"The trail array after onlooker bee phase: \")\n",
    "    debug(trail)\n",
    "\n",
    "    #Scout bee phase\n",
    "    source, objective_function_array, fitness_function_array, trail = __scout_bee_phase(source, objective_function_array, fitness_function_array, trail, __scout_bee_limit__)\n",
    "    img = Image.fromarray(source)\n",
    "    img = img.resize((500,500))\n",
    "    #img = img.convert('R')\n",
    "    img.save('my.png')\n",
    "    img.show()\n",
    "main()"
   ]
  },
  {
   "cell_type": "code",
   "execution_count": 5,
   "metadata": {},
   "outputs": [],
   "source": [
    "source  = get_source()"
   ]
  },
  {
   "cell_type": "code",
   "execution_count": 6,
   "metadata": {},
   "outputs": [
    {
     "name": "stdout",
     "output_type": "stream",
     "text": [
      "[[1, 2], [2, 5]]\n"
     ]
    }
   ],
   "source": [
    "sample = [[1,2],[2,3]]\n",
    "sample[1][1] = 5 \n",
    "print(sample)"
   ]
  },
  {
   "cell_type": "code",
   "execution_count": 7,
   "metadata": {},
   "outputs": [
    {
     "data": {
      "text/plain": [
       "  C_CONTIGUOUS : True\n",
       "  F_CONTIGUOUS : False\n",
       "  OWNDATA : True\n",
       "  WRITEABLE : True\n",
       "  ALIGNED : True\n",
       "  WRITEBACKIFCOPY : False"
      ]
     },
     "execution_count": 7,
     "metadata": {},
     "output_type": "execute_result"
    }
   ],
   "source": [
    "source.flags"
   ]
  },
  {
   "cell_type": "code",
   "execution_count": 8,
   "metadata": {},
   "outputs": [
    {
     "name": "stderr",
     "output_type": "stream",
     "text": [
      "/tmp/ipykernel_335352/2538151203.py:41: RuntimeWarning: overflow encountered in ubyte_scalars\n",
      "  source_new = (source[bee][random_varaible]) + (fi * (source[bee][random_varaible]-source[random_partner][random_varaible]))\n",
      "/tmp/ipykernel_335352/2538151203.py:65: RuntimeWarning: overflow encountered in ubyte_scalars\n",
      "  source_new = (source[onlooker_bee][random_varaible]) + (fi * (source[onlooker_bee][random_varaible]-source[random_partner][random_varaible]))\n"
     ]
    }
   ],
   "source": [
    "\n",
    "def main():\n",
    "    for i in range (100):\n",
    "        __scout_bee_limit__ = 1\n",
    "        source  = get_source()\n",
    "        #source = source.setflags(write=1)\n",
    "        debug(\"The source array is:\")\n",
    "        debug(source)\n",
    "\n",
    "        #Employed bee phase\n",
    "        objective_function_array = objective_function(source)\n",
    "        debug(\"The objective function array is:\")\n",
    "        debug(objective_function_array)\n",
    "\n",
    "        fitness_function_array = fitness_function(objective_function_array)\n",
    "        debug(\"The initial fitness function is\")\n",
    "        debug(fitness_function_array)\n",
    "\n",
    "        trail = create_trail_array(len(objective_function_array))\n",
    "        debug(\"The initial trail array: \")\n",
    "        debug(trail)\n",
    "\n",
    "        source, objective_function_array, fitness_function_array, trail = __employed_bee_phase(source, objective_function_array, fitness_function_array, trail)\n",
    "        debug(\"The objective function array after employed bee phase is:\")\n",
    "        debug(objective_function_array)\n",
    "\n",
    "        debug(\"The fitness function after employeed bee phase is\")\n",
    "        debug(fitness_function_array)\n",
    "\n",
    "        debug(\"The trail array after employeed bee phase: \")\n",
    "        debug(trail)\n",
    "\n",
    "        #Onlooker bee phase\n",
    "        fitness_probability = __onlooker_bee_phase_fitness_probability__(fitness_function_array)\n",
    "        source, objective_function_array, fitness_function_array, trail = __Onlooker_bee_phase(source, objective_function_array, fitness_function_array, trail, fitness_probability)\n",
    "        debug(\"The objective function array after Onlooker bee phase is:\")\n",
    "        debug(objective_function_array)\n",
    "\n",
    "        debug(\"The fitness function after onlooker bee phase is\")\n",
    "        debug(fitness_function_array)\n",
    "\n",
    "        debug(\"The trail array after onlooker bee phase: \")\n",
    "        debug(trail)\n",
    "\n",
    "        #Scout bee phase\n",
    "        source, objective_function_array, fitness_function_array, trail = __scout_bee_phase(source, objective_function_array, fitness_function_array, trail, __scout_bee_limit__)\n",
    "    img = Image.fromarray(source)\n",
    "    img = img.convert(\"RGB\")\n",
    "    img.save('my.png')\n",
    "    img.show()\n",
    "    \n",
    "main()"
   ]
  },
  {
   "cell_type": "code",
   "execution_count": null,
   "metadata": {},
   "outputs": [],
   "source": []
  }
 ],
 "metadata": {
  "kernelspec": {
   "display_name": "Python 3.10.6 ('aikr')",
   "language": "python",
   "name": "python3"
  },
  "language_info": {
   "codemirror_mode": {
    "name": "ipython",
    "version": 3
   },
   "file_extension": ".py",
   "mimetype": "text/x-python",
   "name": "python",
   "nbconvert_exporter": "python",
   "pygments_lexer": "ipython3",
   "version": "3.10.6"
  },
  "orig_nbformat": 4,
  "vscode": {
   "interpreter": {
    "hash": "b5cbcb2e7a436146f2ebede0c6fc49912a11acd898b062d94ddd451e1d545775"
   }
  }
 },
 "nbformat": 4,
 "nbformat_minor": 2
}
